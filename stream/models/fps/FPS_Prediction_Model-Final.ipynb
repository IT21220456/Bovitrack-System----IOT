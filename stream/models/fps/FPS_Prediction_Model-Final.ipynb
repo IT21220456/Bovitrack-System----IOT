{
 "cells": [
  {
   "cell_type": "code",
   "execution_count": 3,
   "id": "263ba8f5",
   "metadata": {},
   "outputs": [],
   "source": [
    "import pandas as pd\n",
    "import xgboost as xgb\n",
    "import numpy as np\n",
    "from sklearn.model_selection import train_test_split\n",
    "from sklearn.preprocessing import LabelEncoder\n",
    "from sklearn.ensemble import RandomForestClassifier\n",
    "from sklearn.tree import DecisionTreeClassifier\n",
    "from sklearn.linear_model import LogisticRegression\n",
    "from sklearn.metrics import accuracy_score, classification_report\n",
    "import matplotlib.pyplot as plt\n",
    "import seaborn as sns\n",
    "import joblib\n",
    "import matplotlib.pyplot as plt\n",
    "import seaborn as sns\n",
    "from sklearn.metrics import confusion_matrix, ConfusionMatrixDisplay, accuracy_score"
   ]
  },
  {
   "cell_type": "code",
   "execution_count": 4,
   "id": "8eb603c0",
   "metadata": {},
   "outputs": [
    {
     "data": {
      "text/html": [
       "<div>\n",
       "<style scoped>\n",
       "    .dataframe tbody tr th:only-of-type {\n",
       "        vertical-align: middle;\n",
       "    }\n",
       "\n",
       "    .dataframe tbody tr th {\n",
       "        vertical-align: top;\n",
       "    }\n",
       "\n",
       "    .dataframe thead th {\n",
       "        text-align: right;\n",
       "    }\n",
       "</style>\n",
       "<table border=\"1\" class=\"dataframe\">\n",
       "  <thead>\n",
       "    <tr style=\"text-align: right;\">\n",
       "      <th></th>\n",
       "      <th>Connection_Speed (Mbps)</th>\n",
       "      <th>Buffering_Rate (s)</th>\n",
       "      <th>Video_Resolution</th>\n",
       "      <th>Video_FPS</th>\n",
       "    </tr>\n",
       "  </thead>\n",
       "  <tbody>\n",
       "    <tr>\n",
       "      <th>0</th>\n",
       "      <td>23.240154</td>\n",
       "      <td>0.374095</td>\n",
       "      <td>360</td>\n",
       "      <td>24</td>\n",
       "    </tr>\n",
       "    <tr>\n",
       "      <th>1</th>\n",
       "      <td>42.914569</td>\n",
       "      <td>0.290750</td>\n",
       "      <td>720</td>\n",
       "      <td>30</td>\n",
       "    </tr>\n",
       "    <tr>\n",
       "      <th>2</th>\n",
       "      <td>89.188167</td>\n",
       "      <td>0.098546</td>\n",
       "      <td>1080</td>\n",
       "      <td>120</td>\n",
       "    </tr>\n",
       "    <tr>\n",
       "      <th>3</th>\n",
       "      <td>16.920892</td>\n",
       "      <td>0.625060</td>\n",
       "      <td>720</td>\n",
       "      <td>30</td>\n",
       "    </tr>\n",
       "    <tr>\n",
       "      <th>4</th>\n",
       "      <td>76.000925</td>\n",
       "      <td>0.077506</td>\n",
       "      <td>1080</td>\n",
       "      <td>60</td>\n",
       "    </tr>\n",
       "  </tbody>\n",
       "</table>\n",
       "</div>"
      ],
      "text/plain": [
       "   Connection_Speed (Mbps)  Buffering_Rate (s)  Video_Resolution  Video_FPS\n",
       "0                23.240154            0.374095               360         24\n",
       "1                42.914569            0.290750               720         30\n",
       "2                89.188167            0.098546              1080        120\n",
       "3                16.920892            0.625060               720         30\n",
       "4                76.000925            0.077506              1080         60"
      ]
     },
     "execution_count": 4,
     "metadata": {},
     "output_type": "execute_result"
    }
   ],
   "source": [
    "df = pd.read_csv('balanced_video_fps_dataset_1.csv')\n",
    "df.head()"
   ]
  },
  {
   "cell_type": "code",
   "execution_count": 5,
   "id": "24fd3539-0125-48c2-9f8f-c1f25c6f4bcf",
   "metadata": {},
   "outputs": [
    {
     "name": "stdout",
     "output_type": "stream",
     "text": [
      "Training Random Forest...\n",
      "Random Forest Classification Report:\n",
      "              precision    recall  f1-score   support\n",
      "\n",
      "           0       0.76      0.80      0.78        60\n",
      "           1       0.70      0.63      0.67        49\n",
      "           2       0.84      0.90      0.87        42\n",
      "           3       0.94      0.92      0.93        49\n",
      "\n",
      "    accuracy                           0.81       200\n",
      "   macro avg       0.81      0.81      0.81       200\n",
      "weighted avg       0.81      0.81      0.81       200\n",
      "\n",
      "Random Forest Accuracy: 0.8100\n",
      "Random Forest Confusion Matrix:\n"
     ]
    },
    {
     "data": {
      "image/png": "[encoded data removed]",
      "text/plain": [
       "<Figure size 600x600 with 2 Axes>"
      ]
     },
     "metadata": {},
     "output_type": "display_data"
    },
    {
     "name": "stdout",
     "output_type": "stream",
     "text": [
      "Training Logistic Regression...\n",
      "Logistic Regression Classification Report:\n",
      "              precision    recall  f1-score   support\n",
      "\n",
      "           0       0.79      0.68      0.73        60\n",
      "           1       0.63      0.67      0.65        49\n",
      "           2       0.80      0.93      0.86        42\n",
      "           3       0.94      0.90      0.92        49\n",
      "\n",
      "    accuracy                           0.79       200\n",
      "   macro avg       0.79      0.80      0.79       200\n",
      "weighted avg       0.79      0.79      0.78       200\n",
      "\n",
      "Logistic Regression Accuracy: 0.7850\n",
      "Logistic Regression Confusion Matrix:\n"
     ]
    },
    {
     "name": "stderr",
     "output_type": "stream",
     "text": [
      "C:\\ProgramData\\anaconda3\\Lib\\site-packages\\sklearn\\linear_model\\_logistic.py:469: ConvergenceWarning: lbfgs failed to converge (status=1):\n",
      "STOP: TOTAL NO. of ITERATIONS REACHED LIMIT.\n",
      "\n",
      "Increase the number of iterations (max_iter) or scale the data as shown in:\n",
      "    https://scikit-learn.org/stable/modules/preprocessing.html\n",
      "Please also refer to the documentation for alternative solver options:\n",
      "    https://scikit-learn.org/stable/modules/linear_model.html#logistic-regression\n",
      "  n_iter_i = _check_optimize_result(\n"
     ]
    },
    {
     "data": {
      "image/png": "[encoded data removed]",
      "text/plain": [
       "<Figure size 600x600 with 2 Axes>"
      ]
     },
     "metadata": {},
     "output_type": "display_data"
    },
    {
     "name": "stdout",
     "output_type": "stream",
     "text": [
      "Saving the best model: Random Forest with accuracy 0.8100\n"
     ]
    },
    {
     "data": {
      "text/plain": [
       "['fps_model.pkl']"
      ]
     },
     "execution_count": 5,
     "metadata": {},
     "output_type": "execute_result"
    }
   ],
   "source": [
    "# Load the saved model and label encoders\n",
    "loaded_model = joblib.load('fps_model.pkl')\n",
    "label_encoder_resolution = joblib.load('label_encoder_resolution.pkl')\n",
    "label_encoder_fps = joblib.load('label_encoder_fps.pkl')\n",
    "\n",
    "# Function to get user input and make prediction\n",
    "def predict_video_fps():\n",
    "    print(\"\\n--- Video FPS Prediction ---\")\n",
    "    \n",
    "    # Get user inputs\n",
    "    connection_speed = float(input(\"Enter Connection Speed (Mbps): \"))\n",
    "    buffering_rate = float(input(\"Enter Buffering Rate (s): \"))\n",
    "    \n",
    "    # Get and encode Video Resolution\n",
    "    resolution_options = list(label_encoder_resolution.classes_)\n",
    "    print(\"\\nAvailable Video Resolutions: \")\n",
    "    for i, res in enumerate(resolution_options):\n",
    "        print(f\"{i}: {res}\")\n",
    "    resolution_input = int(input(\"Select Video Resolution (enter the corresponding number): \"))\n",
    "    \n",
    "    # Ensure the input is within the valid range\n",
    "    if resolution_input < 0 or resolution_input >= len(resolution_options):\n",
    "        print(\"Invalid Video Resolution selection.\")\n",
    "        return\n",
    "    \n",
    "    video_resolution = resolution_input\n",
    "    \n",
    "    # Create a DataFrame for the input\n",
    "    user_data = pd.DataFrame([[connection_speed, buffering_rate, video_resolution]], \n",
    "                             columns=['Connection_Speed (Mbps)', 'Buffering_Rate (s)', 'Video_Resolution'])\n",
    "    \n",
    "    # Make prediction\n",
    "    prediction = loaded_model.predict(user_data)\n",
    "    \n",
    "    # Decode the predicted label\n",
    "    predicted_fps = label_encoder_fps.inverse_transform(prediction)\n",
    "    \n",
    "    \n",
    "    print(\"\\nPredicted Video FPS:\", predicted_fps[0])\n",
    "\n",
    "\n",
    "predict_video_fps()\n"
   ]
  },
  {
   "cell_type": "code",
   "execution_count": 4,
   "id": "252ef8e4-396f-4b20-a476-94c577a450b7",
   "metadata": {},
   "outputs": [
    {
     "name": "stdin",
     "output_type": "stream",
     "text": [
      "Connection Speed (Mbps):  21\n",
      "Buffering Rate (seconds):  0.7656\n",
      "Video Resolution (144/360/720/1080):  720\n"
     ]
    },
    {
     "name": "stdout",
     "output_type": "stream",
     "text": [
      "\n",
      "Predicted FPS: 24\n"
     ]
    },
    {
     "name": "stderr",
     "output_type": "stream",
     "text": [
      "C:\\ProgramData\\anaconda3\\Lib\\site-packages\\sklearn\\base.py:493: UserWarning: X does not have valid feature names, but RandomForestClassifier was fitted with feature names\n",
      "  warnings.warn(\n"
     ]
    }
   ],
   "source": [
    "import joblib\n",
    "import numpy as np\n",
    "\n",
    "def predict_video_fps():\n",
    "    try:\n",
    "        model = joblib.load('FPS_model.pkl')\n",
    "        label_encoder_fps = joblib.load('label_encoder_fps.pkl')\n",
    "        label_encoder_resolution = joblib.load('label_encoder_resolution.pkl')\n",
    "        \n",
    "        connection_speed = float(input(\"Connection Speed (Mbps): \"))\n",
    "        buffering_rate = float(input(\"Buffering Rate (seconds): \"))\n",
    "        resolution = int(input(\"Video Resolution (144/360/720/1080): \"))\n",
    "        \n",
    "        resolution_encoded = label_encoder_resolution.transform([resolution])[0]\n",
    "        \n",
    "        input_data = np.array([[connection_speed, buffering_rate, resolution_encoded]])\n",
    "        \n",
    "        prediction = model.predict(input_data)\n",
    "        \n",
    "        predicted_fps = label_encoder_fps.inverse_transform(prediction)[0]\n",
    "        \n",
    "        print(f\"\\nPredicted FPS: {predicted_fps}\")\n",
    "            \n",
    "    except FileNotFoundError:\n",
    "        print(\"Error: Model files not found.\")\n",
    "    except ValueError:\n",
    "        print(\"Error: Invalid input.\")\n",
    "    except Exception as e:\n",
    "        print(f\"Error: {str(e)}\")\n",
    "\n",
    "predict_video_fps()\n"
   ]
  },
  {
   "cell_type": "code",
   "execution_count": null,
   "id": "1d8f3066-693a-4a30-8813-58b853dfad35",
   "metadata": {},
   "outputs": [],
   "source": []
  }
 ],
 "metadata": {
  "kernelspec": {
   "display_name": "Python 3 (ipykernel)",
   "language": "python",
   "name": "python3"
  },
  "language_info": {
   "codemirror_mode": {
    "name": "ipython",
    "version": 3
   },
   "file_extension": ".py",
   "mimetype": "text/x-python",
   "name": "python",
   "nbconvert_exporter": "python",
   "pygments_lexer": "ipython3",
   "version": "3.12.7"
  }
 },
 "nbformat": 4,
 "nbformat_minor": 5
}
